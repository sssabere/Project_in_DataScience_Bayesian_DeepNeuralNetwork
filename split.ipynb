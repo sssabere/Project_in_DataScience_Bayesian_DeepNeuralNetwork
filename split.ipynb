{
 "cells": [
  {
   "cell_type": "code",
   "execution_count": 1,
   "id": "38c7922f",
   "metadata": {},
   "outputs": [],
   "source": [
    "import pandas as pd\n",
    "import numpy as np"
   ]
  },
  {
   "cell_type": "code",
   "execution_count": null,
   "id": "e6ff34e9",
   "metadata": {},
   "outputs": [],
   "source": [
    " \n",
    "fashion_train_df = pd.read_csv('data/raw/fashion-mnist-train.csv')\n",
    "np.random.seed(0)\n",
    "\n",
    "N = len(fashion_train_df)\n",
    "indices = np.random.permutation(N)  # shuffled indices, reproducible because of seed\n",
    "\n",
    "n_train = int(0.50 * N)   # 50%\n",
    "n_val = int(0.10 * N)     # 10%\n",
    "n_comb = N - (n_train + n_val)  # remaining 40%\n",
    "\n",
    "# Splits\n",
    "idx_train = indices[:n_train]\n",
    "idx_val = indices[n_train:n_train + n_val]\n",
    "idx_comb = indices[n_train + n_val:]\n",
    "\n",
    "# DataFrames\n",
    "train_df = fashion_train_df.iloc[idx_train]\n",
    "val_df = fashion_train_df.iloc[idx_val]\n",
    "comb_df = fashion_train_df.iloc[idx_comb]\n",
    "\n",
    "print(len(train_df), len(val_df), len(comb_df))"
   ]
  }
 ],
 "metadata": {
  "kernelspec": {
   "display_name": "base",
   "language": "python",
   "name": "python3"
  },
  "language_info": {
   "codemirror_mode": {
    "name": "ipython",
    "version": 3
   },
   "file_extension": ".py",
   "mimetype": "text/x-python",
   "name": "python",
   "nbconvert_exporter": "python",
   "pygments_lexer": "ipython3",
   "version": "3.12.7"
  }
 },
 "nbformat": 4,
 "nbformat_minor": 5
}
